{
  "nbformat": 4,
  "nbformat_minor": 0,
  "metadata": {
    "colab": {
      "name": "Assessment.ipynb",
      "provenance": [],
      "include_colab_link": true
    },
    "kernelspec": {
      "name": "python3",
      "display_name": "Python 3"
    }
  },
  "cells": [
    {
      "cell_type": "markdown",
      "metadata": {
        "id": "view-in-github",
        "colab_type": "text"
      },
      "source": [
        "<a href=\"https://colab.research.google.com/github/pinkbcb/DS350_FA24_Ball_Beth/blob/main/notebooks/module01-assessment.ipynb\" target=\"_parent\"><img src=\"https://colab.research.google.com/assets/colab-badge.svg\" alt=\"Open In Colab\"/></a>"
      ]
    },
    {
      "cell_type": "markdown",
      "metadata": {
        "id": "E5dpj74Hya2q"
      },
      "source": [
        "# Introduction\n",
        "This assignment will test how well you're able to perform various data science-related tasks.\n",
        "\n",
        "Each Problem Group below will center around a particular dataset that you have worked with before.\n",
        "\n",
        "To ensure you receive full credit for a question, make sure you demonstrate the appropriate pandas, altair, or other commands as requested in the provided code blocks.\n",
        "\n",
        "You may find that some questions require multiple steps to fully answer. Others require some mental arithmetic in addition to pandas commands. Use your best judgment.\n",
        "\n",
        "## Submission\n",
        "Each problem group asks a series of questions. This assignment consists of two submissions:\n",
        "\n",
        "1. After completing the questions below, open the Module 01 Assessment Quiz in Canvas and enter your answers to these questions there.\n",
        "\n",
        "2. After completing and submitting the quiz, save this Colab notebook as a GitHub Gist (You'll need to create a GitHub account for this), by selecting `Save a copy as a GitHub Gist` from the `File` menu above.\n",
        "\n",
        "    In Canvas, open the Module 01 Assessment GitHub Gist assignment and paste the GitHub Gist URL for this notebook. Then submit that assignment."
      ]
    },
    {
      "cell_type": "markdown",
      "metadata": {
        "id": "WgYhh-W3xk4e"
      },
      "source": [
        "## Problem Group 1\n",
        "\n",
        "For the questions in this group, you'll work with the Netflix Movies Dataset found at this url: [https://raw.githubusercontent.com/byui-cse/cse450-course/master/data/netflix_titles.csv](https://raw.githubusercontent.com/byui-cse/cse450-course/master/data/netflix_titles.csv)\n"
      ]
    },
    {
      "cell_type": "markdown",
      "metadata": {
        "id": "kulUs9K7xxB3"
      },
      "source": [
        "### Question 1\n",
        "Load the dataset into a Pandas data frame and determine what data type is used to store the `release_year` feature."
      ]
    },
    {
      "cell_type": "code",
      "metadata": {
        "id": "ecSfSVrsxjx5",
        "outputId": "b7bf5597-69db-42a7-cd41-76b9ccd5a93c",
        "colab": {
          "base_uri": "https://localhost:8080/"
        }
      },
      "source": [
        "import pandas as pd\n",
        "netflix_df = pd.read_csv(\"https://raw.githubusercontent.com/byui-cse/cse450-course/master/data/netflix_titles.csv\")\n",
        "# netflix_df.info()\n",
        "\n",
        "release_year_dtype = netflix_df['release_year'].dtype\n",
        "print(f\"The 'release year' data type is: {release_year_dtype}\")"
      ],
      "execution_count": 8,
      "outputs": [
        {
          "output_type": "stream",
          "name": "stdout",
          "text": [
            "The 'release year' data type is: int64\n"
          ]
        }
      ]
    },
    {
      "cell_type": "markdown",
      "metadata": {
        "id": "ivpHTGpczpyM"
      },
      "source": [
        "### Question 2\n",
        "Filter your dataset so it contains only `TV Shows`. How many of those TV Shows were rated `TV-Y7`?"
      ]
    },
    {
      "cell_type": "code",
      "metadata": {
        "id": "Zf6QABfXx5Xh",
        "outputId": "e727c6b6-b165-4191-cb6c-d17c26686507",
        "colab": {
          "base_uri": "https://localhost:8080/"
        }
      },
      "source": [
        "tv_shows = netflix_df[netflix_df['type'] == 'TV Show']\n",
        "\n",
        "tv_y7_shows = tv_shows[tv_shows['rating'] == 'TV-Y7']\n",
        "\n",
        "num_tv_y7_shows = len(tv_y7_shows)\n",
        "print(f\"The number of TV Shows rated TV-Y7 is: {num_tv_y7_shows}\")\n"
      ],
      "execution_count": 9,
      "outputs": [
        {
          "output_type": "stream",
          "name": "stdout",
          "text": [
            "Number of TV Shows rated TV-Y7: 100\n"
          ]
        }
      ]
    },
    {
      "cell_type": "markdown",
      "metadata": {
        "id": "-esock-41eGo"
      },
      "source": [
        "### Question 3\n",
        "Further filter your dataset so it only contains TV Shows released between the years 2000 and 2009 inclusive. How many of *those* shows were rated `TV-Y7`?"
      ]
    },
    {
      "cell_type": "code",
      "metadata": {
        "id": "cBNHqCgz0WDp",
        "outputId": "3611325f-6cc6-4cb2-b8eb-863a79820c94",
        "colab": {
          "base_uri": "https://localhost:8080/"
        }
      },
      "source": [
        "filtered_shows = tv_shows[(tv_shows['release_year'] >= 2000) & (tv_shows['release_year'] <= 2009)]\n",
        "tv_y7_filtered_shows = filtered_shows[filtered_shows['rating'] == 'TV-Y7']\n",
        "num_tv_y7_filtered_shows = len(tv_y7_filtered_shows)\n",
        "print(f\"The number of TV Shows released between 2000 and 2009,  rated TV-Y7 is: {num_tv_y7_filtered_shows}\")"
      ],
      "execution_count": 11,
      "outputs": [
        {
          "output_type": "stream",
          "name": "stdout",
          "text": [
            "The number of TV Shows released between 2000 and 2009,  rated TV-Y7 is: 4\n"
          ]
        }
      ]
    },
    {
      "cell_type": "markdown",
      "metadata": {
        "id": "cB4zmoJm3XDj"
      },
      "source": [
        "## Problem Group 2\n",
        "\n",
        "For the questions in this group, you'll work with the Cereal Dataset found at this url: [https://raw.githubusercontent.com/byui-cse/cse450-course/master/data/cereal.csv](https://raw.githubusercontent.com/byui-cse/cse450-course/master/data/cereal.csv)\n"
      ]
    },
    {
      "cell_type": "markdown",
      "metadata": {
        "id": "BE_TdsHa3sMj"
      },
      "source": [
        "### Question 4\n",
        "After importing the dataset into a pandas data frame, determine the median amount of `protein` in cereal brands manufactured by Kelloggs. (`mfr` code \"K\")"
      ]
    },
    {
      "cell_type": "code",
      "metadata": {
        "id": "fBXFGnfP2tfV",
        "outputId": "b93a8ddc-86a2-47c1-9b17-16a0f43bf58c",
        "colab": {
          "base_uri": "https://localhost:8080/"
        }
      },
      "source": [
        "cereal_df = pd.read_csv(\"https://raw.githubusercontent.com/byui-cse/cse450-course/master/data/cereal.csv\")\n",
        "kelloggs_cereals = cereal_df[cereal_df['mfr'] == 'K']\n",
        "median_protein_kelloggs = kelloggs_cereals['protein'].median()\n",
        "\n",
        "print(f\"The median amount of protein in cereal by Kelloggs is: {median_protein_kelloggs}\")"
      ],
      "execution_count": 14,
      "outputs": [
        {
          "output_type": "stream",
          "name": "stdout",
          "text": [
            "The median amount of protein in cereal by Kelloggs is: 3.0\n"
          ]
        }
      ]
    },
    {
      "cell_type": "markdown",
      "metadata": {
        "id": "W3del4PC9NJ-"
      },
      "source": [
        "### Question 5\n",
        "In order to comply with new government regulations, all cereals must now come with a \"Healthiness\" rating. This rating is calculated based on this formula:\n",
        "\n",
        "    healthiness = (protein + fiber) / sugar\n",
        "\n",
        "Create a new `healthiness` column populated with values based on the above formula.\n",
        "\n",
        "Then, determine the median healthiness value for only General Mills cereals (`mfr` = \"G\"), rounded to two decimal places."
      ]
    },
    {
      "cell_type": "code",
      "metadata": {
        "id": "TqFx9yvV6LDX",
        "outputId": "7a67fe29-4e57-4b38-aa6d-ff158927e592",
        "colab": {
          "base_uri": "https://localhost:8080/"
        }
      },
      "source": [
        "cereal_df['healthiness'] = (cereal_df['protein'] + cereal_df['fiber']) / cereal_df['sugars']\n",
        "\n",
        "general_mills_cereals = cereal_df[cereal_df['mfr'] == 'G']\n",
        "median_healthiness = general_mills_cereals['healthiness'].median()\n",
        "\n",
        "rounded_median_healthiness = round(median_healthiness, 2)\n",
        "print(f\"The median healthiness value for General Mills cereals is: {rounded_median_healthiness}\")\n",
        "\n"
      ],
      "execution_count": 15,
      "outputs": [
        {
          "output_type": "stream",
          "name": "stdout",
          "text": [
            "The median healthiness value for General Mills cereals is: 0.47\n"
          ]
        }
      ]
    },
    {
      "cell_type": "markdown",
      "metadata": {
        "id": "AcuUNAxC-g7c"
      },
      "source": [
        "## Problem Group 3\n",
        "\n",
        "For the questions in this group, you'll work with the Titanic Dataset found at this url: [https://raw.githubusercontent.com/byui-cse/cse450-course/master/data/titanic.csv](https://raw.githubusercontent.com/byui-cse/cse450-course/master/data/titanic.csv)"
      ]
    },
    {
      "cell_type": "markdown",
      "metadata": {
        "id": "POOuuXfYAJQK"
      },
      "source": [
        "### Question 6\n",
        "\n",
        "After loading the dataset into a pandas DataFrame, create a new column called `NameGroup` that contains the first letter of the passenger's surname in lower case.\n",
        "\n",
        "Note that in the dataset, passenger's names are provided in the `Name` column and are listed as:\n",
        "\n",
        "    Surname, Given names\n",
        "\n",
        "For example, if a passenger's `Name` is `Braund, Mr. Owen Harris`, the `NameGroup` column should contain the value `b`.\n",
        "\n",
        "Then count how many passengers have a `NameGroup` value of `k`."
      ]
    },
    {
      "cell_type": "code",
      "metadata": {
        "id": "T80gU65-ASFa"
      },
      "source": [
        "titanic_df = pd.read_csv('https://raw.githubusercontent.com/byui-cse/cse450-course/master/data/titanic.csv')\n",
        "\n",
        "\n",
        "titanic_df['NameGroup'] = titanic_df['Name'].str.split(',').str[0].str.lower().str[0]\n",
        "\n",
        "k_count = titanic_df[titanic_df['NameGroup'] == 'k'].shape[0]\n"
      ],
      "execution_count": 16,
      "outputs": []
    },
    {
      "cell_type": "code",
      "metadata": {
        "id": "E81qACTfAWl2",
        "outputId": "be779c81-6634-418e-cf49-5a60441ca328",
        "colab": {
          "base_uri": "https://localhost:8080/"
        }
      },
      "source": [
        "\n",
        "print(f\"Number of passengers with NameGroup value of 'k': {k_count}\")\n",
        "# titanic_df"
      ],
      "execution_count": 19,
      "outputs": [
        {
          "output_type": "stream",
          "name": "stdout",
          "text": [
            "Number of passengers with NameGroup value of 'k': 28\n"
          ]
        }
      ]
    }
  ]
}